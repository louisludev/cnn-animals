{
 "cells": [
  {
   "cell_type": "code",
   "execution_count": 1,
   "id": "d77f7dc7",
   "metadata": {},
   "outputs": [],
   "source": [
    "import os\n",
    "import glob\n",
    "import shutil\n",
    "import tensorflow as tf\n",
    "from tensorflow.keras.preprocessing.image import ImageDataGenerator, img_to_array, load_img # type: ignore"
   ]
  },
  {
   "cell_type": "code",
   "execution_count": 2,
   "id": "6ad35a3d",
   "metadata": {},
   "outputs": [],
   "source": [
    "# 定義資料增強的參數\n",
    "datagen = ImageDataGenerator(\n",
    "    rotation_range=20,\n",
    "    width_shift_range=0.2,\n",
    "    height_shift_range=0.2,\n",
    "    zoom_range=0.2,\n",
    "    horizontal_flip=True,\n",
    "    fill_mode='nearest'\n",
    ")"
   ]
  },
  {
   "cell_type": "code",
   "execution_count": 3,
   "id": "f6b4fa5d",
   "metadata": {},
   "outputs": [],
   "source": [
    "# 獅子和豹的資料夾路徑\n",
    "lion_dir = r'C:\\Users\\Louis\\Desktop\\project\\cnn-animals\\data\\lion'  # 獅子原始圖片資料夾\n",
    "leopard_dir = r'C:\\Users\\Louis\\Desktop\\project\\cnn-animals\\data\\leopard'  # 豹原始圖片資料夾"
   ]
  },
  {
   "cell_type": "code",
   "execution_count": 4,
   "id": "993967e6",
   "metadata": {},
   "outputs": [],
   "source": [
    "# 增強後圖片儲存的資料夾\n",
    "augmented_lion_dir = r'C:\\Users\\Louis\\Desktop\\project\\cnn-animals\\data_augmented\\lion'\n",
    "augmented_leopard_dir = r'C:\\Users\\Louis\\Desktop\\project\\cnn-animals\\data_augmented\\leopard'"
   ]
  },
  {
   "cell_type": "code",
   "execution_count": 5,
   "id": "9ddaac3f",
   "metadata": {},
   "outputs": [],
   "source": [
    "# 創建增強後資料夾，如果不存在的話\n",
    "if not os.path.exists(augmented_lion_dir):\n",
    "    os.makedirs(augmented_lion_dir)\n",
    "if not os.path.exists(augmented_leopard_dir):\n",
    "    os.makedirs(augmented_leopard_dir)"
   ]
  },
  {
   "cell_type": "code",
   "execution_count": 5,
   "id": "bc449d5a",
   "metadata": {},
   "outputs": [],
   "source": [
    "# 定義增強圖片的函數\n",
    "def augment_images(image_dir, augmented_dir, prefix, img_size=(128, 128), augment_count=5):\n",
    "    # 獲取所有圖片路徑\n",
    "    images = glob.glob(os.path.join(image_dir, '*.jpg'))\n",
    "    for img_path in images:\n",
    "        # 複製原圖到增強後的資料夾\n",
    "        shutil.copy(img_path, augmented_dir)\n",
    "        {}\n",
    "        # 加載圖片並轉換為陣列\n",
    "        img = load_img(img_path, target_size=img_size)\n",
    "        x = img_to_array(img)\n",
    "        x = x.reshape((1,) + x.shape)  # reshape 為 datagen 所需的格式\n",
    "        # 生成並儲存增強圖片\n",
    "        i = 0\n",
    "        for batch in datagen.flow(x, batch_size=1, save_to_dir=augmented_dir, save_prefix=prefix, save_format='jpg'):\n",
    "            i += 1\n",
    "            if i >= augment_count:  # 每張圖片生成 augment_count 張增強圖片\n",
    "                break"
   ]
  },
  {
   "cell_type": "code",
   "execution_count": null,
   "id": "ad517aeb",
   "metadata": {},
   "outputs": [],
   "source": [
    "# 增強獅子圖片，並將原圖也複製到增強資料夾\n",
    "augment_images(lion_dir, augmented_lion_dir, prefix='lion', augment_count=5)\n",
    "# 增強豹圖片，並將原圖也複製到增強資料夾\n",
    "augment_images(leopard_dir, augmented_leopard_dir, prefix='leopard', augment_count=5)\n",
    "print(\"增強圖片完成！原圖已包含在增強後的資料夾中。\")"
   ]
  }
 ],
 "metadata": {
  "kernelspec": {
   "display_name": ".venv",
   "language": "python",
   "name": "python3"
  },
  "language_info": {
   "codemirror_mode": {
    "name": "ipython",
    "version": 3
   },
   "file_extension": ".py",
   "mimetype": "text/x-python",
   "name": "python",
   "nbconvert_exporter": "python",
   "pygments_lexer": "ipython3",
   "version": "3.9.0"
  }
 },
 "nbformat": 4,
 "nbformat_minor": 5
}
