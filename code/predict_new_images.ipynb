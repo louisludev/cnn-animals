{
 "cells": [
  {
   "cell_type": "code",
   "execution_count": 1,
   "id": "4f6cc24e",
   "metadata": {},
   "outputs": [],
   "source": [
    "import os\n",
    "import numpy as np\n",
    "import tensorflow as tf\n",
    "import pandas as pd\n",
    "from tensorflow.keras.preprocessing.image import load_img, img_to_array\n",
    "from sklearn.metrics import confusion_matrix\n",
    "import seaborn as sns\n",
    "import matplotlib.pyplot as plt"
   ]
  },
  {
   "cell_type": "code",
   "execution_count": 6,
   "id": "078cb336",
   "metadata": {},
   "outputs": [],
   "source": [
    "# ========= 設定參數 =========\n",
    "model_path = 'best_model.h5'  # ✅ 確認你的模型檔案是否與本檔案在同一層\n",
    "img_size = 128  # ✅ 與訓練時一致\n",
    "categories = ['lion', 'leopard']  # ✅ 與訓練順序一致"
   ]
  },
  {
   "cell_type": "code",
   "execution_count": 8,
   "id": "fc93e9cb",
   "metadata": {},
   "outputs": [
    {
     "name": "stdout",
     "output_type": "stream",
     "text": [
      "INFO:tensorflow:Mixed precision compatibility check (mixed_float16): OK\n",
      "Your GPU will likely run quickly with dtype policy mixed_float16 as it has compute capability of at least 7.0. Your GPU: NVIDIA GeForce GTX 1650, compute capability 7.5\n"
     ]
    }
   ],
   "source": [
    "# ========= 載入模型 =========\n",
    "model = tf.keras.models.load_model('best_model.h5')"
   ]
  },
  {
   "cell_type": "code",
   "execution_count": 11,
   "id": "e015a4b3",
   "metadata": {},
   "outputs": [],
   "source": [
    "# ========= 預測新圖片 =========\n",
    "data_dir = r'C:\\Users\\Louis\\Desktop\\project\\cnn-animals\\new_images'  # ✅ 確保此資料夾存在，結構為 new_images/lion/*.jpg, new_images/leopard/*.jpg\n",
    "results = []\n",
    "\n",
    "for actual_label in categories:\n",
    "    folder = os.path.join(data_dir, actual_label)\n",
    "    for img_name in os.listdir(folder):\n",
    "        img_path = os.path.join(folder, img_name)\n",
    "\n",
    "        try:\n",
    "            # 圖片處理\n",
    "            img = load_img(img_path, target_size=(img_size, img_size))\n",
    "            img_array = img_to_array(img) / 255.0\n",
    "            img_array = np.expand_dims(img_array, axis=0)\n",
    "\n",
    "            # 預測\n",
    "            prediction = model.predict(img_array, verbose=0)\n",
    "            predicted_index = np.argmax(prediction)\n",
    "            predicted_label = categories[predicted_index]\n",
    "            confidence = round(float(np.max(prediction)), 4)\n",
    "\n",
    "            results.append({\n",
    "                'filename': img_name,\n",
    "                'actual_label': actual_label,\n",
    "                'predicted_label': predicted_label,\n",
    "                'confidence': confidence\n",
    "            })\n",
    "\n",
    "        except Exception as e:\n",
    "            print(f\"❌ Error loading {img_path}: {e}\")"
   ]
  },
  {
   "cell_type": "code",
   "execution_count": 12,
   "id": "931355c1",
   "metadata": {},
   "outputs": [
    {
     "name": "stdout",
     "output_type": "stream",
     "text": [
      "✅ 預測完成，結果儲存到 prediction_results.csv\n"
     ]
    }
   ],
   "source": [
    "# ========= 儲存預測結果 =========\n",
    "df = pd.DataFrame(results)\n",
    "df.to_csv('prediction_results.csv', index=False)\n",
    "print(\"✅ 預測完成，結果儲存到 prediction_results.csv\")"
   ]
  },
  {
   "cell_type": "code",
   "execution_count": 13,
   "id": "54821a08",
   "metadata": {},
   "outputs": [
    {
     "data": {
      "image/png": "[encoded data removed]",
      "text/plain": [
       "<Figure size 640x480 with 2 Axes>"
      ]
     },
     "metadata": {},
     "output_type": "display_data"
    }
   ],
   "source": [
    "# ========= 混淆矩陣繪圖 =========\n",
    "cm = confusion_matrix(df['actual_label'], df['predicted_label'], labels=categories)\n",
    "sns.heatmap(cm, annot=True, fmt='d', xticklabels=categories, yticklabels=categories, cmap='Blues')\n",
    "plt.xlabel(\"Predicted\")\n",
    "plt.ylabel(\"Actual\")\n",
    "plt.title(\"Confusion Matrix for New 100 Images\")\n",
    "plt.show()"
   ]
  },
  {
   "cell_type": "code",
   "execution_count": 14,
   "id": "94d7de28",
   "metadata": {},
   "outputs": [],
   "source": [
    "confidence = round(float(np.max(prediction)), 4)"
   ]
  }
 ],
 "metadata": {
  "kernelspec": {
   "display_name": ".venv",
   "language": "python",
   "name": "python3"
  },
  "language_info": {
   "codemirror_mode": {
    "name": "ipython",
    "version": 3
   },
   "file_extension": ".py",
   "mimetype": "text/x-python",
   "name": "python",
   "nbconvert_exporter": "python",
   "pygments_lexer": "ipython3",
   "version": "3.9.0"
  }
 },
 "nbformat": 4,
 "nbformat_minor": 5
}
